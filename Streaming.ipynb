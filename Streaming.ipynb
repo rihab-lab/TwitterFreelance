

import tweepy
import sys
import json
from tweepy import OAuthHandler
from datetime import datetime
from textwrap import TextWrapper
from elasticsearch import Elasticsearch

access_token = ""
access_token_secret =  ""

consumer_key =  ""
consumer_secret =  ""

auth = tweepy.OAuthHandler(consumer_key, consumer_secret)
auth.set_access_token(access_token, access_token_secret)

api = tweepy.API(auth,wait_on_rate_limit=True ,wait_on_rate_limit_notify=True )


es = Elasticsearch([{'host': 'localhost', 'port': 9200}])

class StreamApi(tweepy.StreamListener):
    status_wrapper = TextWrapper(width=60, initial_indent= ' ',subsequent_indent='  ')
    
    def on_status(self,status):
        json_data = status._json
        es.index(index="demo",doc_type="dem",body=json_data,ignore=400)
class StreamApi(tweepy.StreamListener):
    status_wrapper = TextWrapper(width=60, initial_indent= ' ',subsequent_indent='  ')
    
    def on_status(self,status):
        json_data = status._json
        es.index(index="demo",doc_type="dem",body=json_data,ignore=400)
        
    
        
while True:
        try:
            streamer=tweepy.Stream(auth=auth, listener =StreamApi(),timeout=30)
            terms=["freelance","freelancer","Self employed",]
            streamer.filter(None,terms)
            #twitterStream.filter(locations=[10.01,46.85,13.09,49.43]) 
        except Exception as e:
                
                print('e')
                pass
        
